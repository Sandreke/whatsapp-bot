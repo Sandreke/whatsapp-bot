{
 "cells": [
  {
   "cell_type": "code",
   "execution_count": 1,
   "metadata": {},
   "outputs": [],
   "source": [
    "# !pip install pandas\n",
    "# !pip install webbrowser\n",
    "# !pip install pyautogui\n",
    "# !pip install pyperclip"
   ]
  },
  {
   "cell_type": "code",
   "execution_count": 2,
   "metadata": {},
   "outputs": [],
   "source": [
    "import pandas as pd\n",
    "import webbrowser as web\n",
    "import pyautogui as pg\n",
    "import pyperclip\n",
    "import time"
   ]
  },
  {
   "cell_type": "code",
   "execution_count": 3,
   "metadata": {},
   "outputs": [
    {
     "data": {
      "text/html": [
       "<div>\n",
       "<style scoped>\n",
       "    .dataframe tbody tr th:only-of-type {\n",
       "        vertical-align: middle;\n",
       "    }\n",
       "\n",
       "    .dataframe tbody tr th {\n",
       "        vertical-align: top;\n",
       "    }\n",
       "\n",
       "    .dataframe thead th {\n",
       "        text-align: right;\n",
       "    }\n",
       "</style>\n",
       "<table border=\"1\" class=\"dataframe\">\n",
       "  <thead>\n",
       "    <tr style=\"text-align: right;\">\n",
       "      <th></th>\n",
       "      <th>Equipo</th>\n",
       "      <th>Entregable</th>\n",
       "      <th>Fecha</th>\n",
       "    </tr>\n",
       "  </thead>\n",
       "  <tbody>\n",
       "    <tr>\n",
       "      <th>0</th>\n",
       "      <td>Equipo Machine Learning 🧠</td>\n",
       "      <td>Modelos</td>\n",
       "      <td>Jueves 3pm</td>\n",
       "    </tr>\n",
       "    <tr>\n",
       "      <th>1</th>\n",
       "      <td>Team Business Intelligence 📊</td>\n",
       "      <td>Dashboards</td>\n",
       "      <td>Viernes 2pm</td>\n",
       "    </tr>\n",
       "    <tr>\n",
       "      <th>2</th>\n",
       "      <td>Squad App Devs 📱</td>\n",
       "      <td>Features</td>\n",
       "      <td>Jueves 5pm</td>\n",
       "    </tr>\n",
       "  </tbody>\n",
       "</table>\n",
       "</div>"
      ],
      "text/plain": [
       "                         Equipo  Entregable        Fecha\n",
       "0     Equipo Machine Learning 🧠     Modelos   Jueves 3pm\n",
       "1  Team Business Intelligence 📊  Dashboards  Viernes 2pm\n",
       "2              Squad App Devs 📱    Features   Jueves 5pm"
      ]
     },
     "execution_count": 3,
     "metadata": {},
     "output_type": "execute_result"
    }
   ],
   "source": [
    "# Read groups data\n",
    "data = pd.read_excel(\"data/groups.xlsx\")\n",
    "data"
   ]
  },
  {
   "cell_type": "code",
   "execution_count": 4,
   "metadata": {},
   "outputs": [],
   "source": [
    "# Open WhatsApp Web\n",
    "chrome_path = \"C:/Program Files (x86)/Google/Chrome/Application/chrome.exe %s\"\n",
    "web.get(chrome_path).open(\"https://web.whatsapp.com/\")\n",
    "time.sleep(15)  # Wait 15 seconds for WhatsApp Web to load\n",
    "\n",
    "for i in range(len(data)):\n",
    "    team = data.loc[i, 'Equipo']  # Extract the team name\n",
    "    deliverable = data.loc[i, 'Entregable']  # Extract the deliverable\n",
    "    deadline = data.loc[i, 'Fecha']  # Extract the deadline date\n",
    "    \n",
    "    # Search for the group chat\n",
    "    pg.click(clicks=2,x=380,y=230)  # Click on the search box\n",
    "    time.sleep(0.5)\n",
    "    pyperclip.copy(team)\n",
    "    pg.hotkey('ctrl', 'v')  # Paste the group chat name into the search box\n",
    "    time.sleep(1)\n",
    "    \n",
    "    # Click on the group chat\n",
    "    pg.click(clicks=2,x=380,y=460)\n",
    "    time.sleep(1)\n",
    "\n",
    "    # Write the message\n",
    "    pg.click(1300,980)  # Click on the message input box\n",
    "    message = (\"Buenos días, \" + team + \"!\\n\" +\n",
    "               \"¿Cómo van con el avance de \" + deliverable + \"?\\n\" +\n",
    "               \"El deadline es el \" + deadline + \".\\n\" +\n",
    "               \"Me van avisando!\")\n",
    "    pyperclip.copy(message)\n",
    "    pg.hotkey('ctrl', 'v')  # Paste the message into the input box\n",
    "    \n",
    "    # Send the message\n",
    "    pg.press('enter')\n",
    "    time.sleep(1.5)"
   ]
  }
 ],
 "metadata": {
  "kernelspec": {
   "display_name": "Python 3",
   "language": "python",
   "name": "python3"
  },
  "language_info": {
   "codemirror_mode": {
    "name": "ipython",
    "version": 3
   },
   "file_extension": ".py",
   "mimetype": "text/x-python",
   "name": "python",
   "nbconvert_exporter": "python",
   "pygments_lexer": "ipython3",
   "version": "3.7.4"
  }
 },
 "nbformat": 4,
 "nbformat_minor": 2
}
